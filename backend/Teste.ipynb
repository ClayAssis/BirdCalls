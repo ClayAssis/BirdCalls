{
 "cells": [
  {
   "cell_type": "code",
   "execution_count": null,
   "id": "d635a302",
   "metadata": {},
   "outputs": [],
   "source": [
    "import requests\n",
    "import json\n",
    "import time\n",
    "from tqdm import tqdm"
   ]
  },
  {
   "cell_type": "code",
   "execution_count": null,
   "id": "4c21a095",
   "metadata": {},
   "outputs": [],
   "source": [
    "def get_recordings():\n",
    "    recordings = []\n",
    "    page = 1\n",
    "    num_pages = None\n",
    "    url = f\"https://xeno-canto.org/api/2/recordings?query=cnt:brazil&page={page}\"\n",
    "    response = requests.get(url)\n",
    "    data = json.loads(response.text)\n",
    "    num_pages = data['numPages']\n",
    "    with tqdm(total=num_pages, desc='Loading recordings', bar_format='{desc}: {percentage:3.0f}%|{bar}| {n_fmt}/{total_fmt}', leave=False) as pbar:\n",
    "        while True:\n",
    "            url = f\"https://xeno-canto.org/api/2/recordings?query=cnt:brazil&page={page}\"\n",
    "            response = requests.get(url)\n",
    "            data = json.loads(response.text)\n",
    "            if 'recordings' not in data:\n",
    "                break\n",
    "            page_recordings = data['recordings']\n",
    "            recordings.extend(page_recordings)\n",
    "            pbar.update(1)\n",
    "            page += 1\n",
    "            time.sleep(1)\n",
    "    return recordings\n",
    "\n",
    "def post_data(data):\n",
    "    url = \"https://birdcall.zcursos.one/records_post/podekeyclay\"\n",
    "    headers = {'Content-type': 'application/json'}\n",
    "    response = requests.post(url, data=json.dumps(data), headers=headers)\n",
    "    return response\n",
    "\n",
    "def send_recordings(data):\n",
    "    recordings = data\n",
    "    print(len(recordings))\n",
    "    for recording in tqdm(recordings):\n",
    "        post_data({\n",
    "            \"id\": str(recording[\"id\"]),\n",
    "            \"gen\": str(recording[\"gen\"]),\n",
    "            \"sp\": str(recording[\"sp\"]),\n",
    "            \"en\": str(recording[\"en\"]),\n",
    "            \"cnt\": str(recording[\"cnt\"]),\n",
    "            \"loc\": str(recording[\"loc\"]),\n",
    "            \"lat\": str(recording[\"lat\"]),\n",
    "            \"lng\": str(recording[\"lng\"]),\n",
    "            \"alt\": str(recording[\"alt\"]),\n",
    "            \"type\": str(recording[\"type\"]),\n",
    "            \"file\": str(recording[\"file\"]),\n",
    "            \"filename\": str(recording[\"file-name\"]),\n",
    "            \"sono\": str(recording[\"sono\"][\"full\"]),\n",
    "            \"osci\": str(recording[\"osci\"][\"large\"]),\n",
    "            \"quality\": str(recording[\"q\"]),\n",
    "            \"length\": str(recording[\"length\"]),\n",
    "            \"date\": str(recording[\"date\"])\n",
    "        })\n",
    "        time.sleep(1)"
   ]
  },
  {
   "cell_type": "code",
   "execution_count": null,
   "id": "79d52492",
   "metadata": {
    "scrolled": true
   },
   "outputs": [],
   "source": [
    "data = get_recordings()"
   ]
  },
  {
   "cell_type": "code",
   "execution_count": null,
   "id": "9cf12f8a",
   "metadata": {},
   "outputs": [],
   "source": [
    "send_recordings(data)"
   ]
  },
  {
   "cell_type": "code",
   "execution_count": null,
   "id": "f31260c4",
   "metadata": {},
   "outputs": [],
   "source": []
  }
 ],
 "metadata": {
  "kernelspec": {
   "display_name": "Python 3 (ipykernel)",
   "language": "python",
   "name": "python3"
  },
  "language_info": {
   "codemirror_mode": {
    "name": "ipython",
    "version": 3
   },
   "file_extension": ".py",
   "mimetype": "text/x-python",
   "name": "python",
   "nbconvert_exporter": "python",
   "pygments_lexer": "ipython3",
   "version": "3.10.8"
  }
 },
 "nbformat": 4,
 "nbformat_minor": 5
}
